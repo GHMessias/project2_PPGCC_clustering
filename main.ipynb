{
 "cells": [
  {
   "cell_type": "code",
   "execution_count": 72,
   "metadata": {},
   "outputs": [],
   "source": [
    "import tensorflow as tf\n",
    "from tensorflow.keras.applications import EfficientNetB0\n",
    "from tensorflow.keras.preprocessing.image import ImageDataGenerator\n",
    "from tensorflow.keras import layers, models\n",
    "from tensorflow.keras.layers import Conv2D, MaxPooling2D, Flatten, Dense\n",
    "from sklearn.model_selection import train_test_split\n",
    "import numpy as np\n",
    "import pandas as pd\n",
    "import random\n",
    "import os\n",
    "\n",
    "np.random.seed(42)\n",
    "tf.random.set_seed(42)"
   ]
  },
  {
   "cell_type": "code",
   "execution_count": 49,
   "metadata": {},
   "outputs": [],
   "source": [
    "# Definir o caminho para o diretório contendo as imagens de treino e teste\n",
    "data_dir = 'dataset/Kather_texture_2016_image_tiles_5000'\n",
    "samples, labels = list(), list()\n",
    "\n",
    "for nome_pasta in os.listdir(data_dir):\n",
    "    for nome_arquivo in os.listdir(os.path.join(data_dir, nome_pasta)):\n",
    "        samples.append(os.path.join(nome_pasta,nome_arquivo))\n",
    "        labels.append(int(nome_pasta[:2]))\n",
    "\n"
   ]
  },
  {
   "cell_type": "code",
   "execution_count": 50,
   "metadata": {},
   "outputs": [],
   "source": [
    "all_data = pd.DataFrame({'path':samples,'label':labels})\n",
    "all_data['label'] = all_data['label'].astype('str')"
   ]
  },
  {
   "cell_type": "code",
   "execution_count": 65,
   "metadata": {},
   "outputs": [],
   "source": [
    "datagen = ImageDataGenerator(rescale=1./255,\n",
    "                             validation_split=0.9,  # 20% dos dados serão usados para validação\n",
    "                             #horizontal_flip=True,\n",
    "                             )"
   ]
  },
  {
   "cell_type": "code",
   "execution_count": 75,
   "metadata": {},
   "outputs": [
    {
     "name": "stdout",
     "output_type": "stream",
     "text": [
      "Found 500 validated image filenames belonging to 8 classes.\n",
      "Found 4500 validated image filenames belonging to 8 classes.\n"
     ]
    }
   ],
   "source": [
    "# Configuração dos parâmetros da CNN\n",
    "input_shape = (28, 28, 3)  # Dimensões da imagem de entrada\n",
    "num_classes = 8  # Número de classes no seu conjunto de dados\n",
    "batch_size = 32\n",
    "\n",
    "# Criando os geradores de dados de treinamento e validação usando flow_from_dataframe\n",
    "train_generator = datagen.flow_from_dataframe(dataframe=all_data,\n",
    "                                              directory=data_dir,\n",
    "                                              x_col=\"path\",\n",
    "                                              y_col=\"label\",\n",
    "                                              subset=\"training\",  # Usando os dados de treinamento\n",
    "                                              batch_size=32,\n",
    "                                              target_size=(28, 28),  # Tamanho da imagem para o modelo MobileNetV2\n",
    "                                              class_mode=\"categorical\")  # Se for um problema de classificação multiclasse\n",
    "\n",
    "valid_generator = datagen.flow_from_dataframe(dataframe=all_data,\n",
    "                                              directory=data_dir,\n",
    "                                              x_col=\"path\",\n",
    "                                              y_col=\"label\",\n",
    "                                              subset=\"validation\",  # Usando os dados de validação\n",
    "                                              batch_size=32,\n",
    "                                              target_size=(28, 28),\n",
    "                                              class_mode=\"categorical\")\n"
   ]
  },
  {
   "cell_type": "code",
   "execution_count": 76,
   "metadata": {},
   "outputs": [],
   "source": [
    "#base_model = EfficientNetB0(input_shape=(32, 32, 3), include_top=False, weights=\"imagenet\")\n",
    "# for layer in base_model.layers:\n",
    "#     layer.trainable = False\n",
    "# model = models.Sequential([\n",
    "#     base_model,\n",
    "#     layers.GlobalAveragePooling2D(),\n",
    "#     layers.Dense(128, activation='relu'),\n",
    "#     layers.Dropout(0.3),\n",
    "#     layers.Dense(num_classes, activation='softmax')  # Substitua 'num_classes' pelo número de classes do seu problema\n",
    "# ])"
   ]
  },
  {
   "cell_type": "code",
   "execution_count": 79,
   "metadata": {},
   "outputs": [
    {
     "name": "stdout",
     "output_type": "stream",
     "text": [
      "Model: \"sequential_5\"\n",
      "_________________________________________________________________\n",
      " Layer (type)                Output Shape              Param #   \n",
      "=================================================================\n",
      " conv2d_6 (Conv2D)           (None, 26, 26, 32)        896       \n",
      "                                                                 \n",
      " max_pooling2d_6 (MaxPoolin  (None, 13, 13, 32)        0         \n",
      " g2D)                                                            \n",
      "                                                                 \n",
      " conv2d_7 (Conv2D)           (None, 11, 11, 64)        18496     \n",
      "                                                                 \n",
      " max_pooling2d_7 (MaxPoolin  (None, 5, 5, 64)          0         \n",
      " g2D)                                                            \n",
      "                                                                 \n",
      " conv2d_8 (Conv2D)           (None, 3, 3, 128)         73856     \n",
      "                                                                 \n",
      " max_pooling2d_8 (MaxPoolin  (None, 1, 1, 128)         0         \n",
      " g2D)                                                            \n",
      "                                                                 \n",
      " flatten_2 (Flatten)         (None, 128)               0         \n",
      "                                                                 \n",
      " dense_12 (Dense)            (None, 128)               16512     \n",
      "                                                                 \n",
      " dense_13 (Dense)            (None, 32)                4128      \n",
      "                                                                 \n",
      " dense_14 (Dense)            (None, 8)                 264       \n",
      "                                                                 \n",
      "=================================================================\n",
      "Total params: 114152 (445.91 KB)\n",
      "Trainable params: 114152 (445.91 KB)\n",
      "Non-trainable params: 0 (0.00 Byte)\n",
      "_________________________________________________________________\n"
     ]
    }
   ],
   "source": [
    "# Criando o modelo CNN\n",
    "model = Sequential()\n",
    "\n",
    "# Camadas convolucionais e de pooling\n",
    "model.add(Conv2D(32, (3, 3), activation='relu', input_shape=(28, 28, 3)))\n",
    "model.add(MaxPooling2D((2, 2)))\n",
    "\n",
    "model.add(Conv2D(64, (3, 3), activation='relu'))\n",
    "model.add(MaxPooling2D((2, 2)))\n",
    "\n",
    "model.add(Conv2D(128, (3, 3), activation='relu'))\n",
    "model.add(MaxPooling2D((2, 2)))\n",
    "\n",
    "# Flatten para conectar as camadas totalmente conectadas\n",
    "model.add(Flatten())\n",
    "\n",
    "# Camadas totalmente conectadas\n",
    "model.add(Dense(128, activation='relu'))\n",
    "model.add(Dense(32, activation='relu'))\n",
    "model.add(Dense(num_classes, activation='softmax'))  # Substitua 'num_classes' pelo número de classes do seu problema\n",
    "\n",
    "# Compilando o modelo\n",
    "model.compile(optimizer='adam', loss='categorical_crossentropy', metrics=['accuracy'])\n",
    "\n",
    "# Visualizando a arquitetura do modelo\n",
    "model.summary()"
   ]
  },
  {
   "cell_type": "code",
   "execution_count": null,
   "metadata": {},
   "outputs": [],
   "source": []
  },
  {
   "cell_type": "code",
   "execution_count": 80,
   "metadata": {},
   "outputs": [
    {
     "name": "stdout",
     "output_type": "stream",
     "text": [
      "Epoch 1/10\n",
      "16/16 [==============================] - 3s 139ms/step - loss: 0.8613 - accuracy: 0.8700 - val_loss: 16.0334 - val_accuracy: 0.0278\n",
      "Epoch 2/10\n",
      "16/16 [==============================] - 2s 126ms/step - loss: 5.4612e-06 - accuracy: 1.0000 - val_loss: 46.3024 - val_accuracy: 0.0278\n",
      "Epoch 3/10\n",
      "16/16 [==============================] - 2s 124ms/step - loss: 0.0000e+00 - accuracy: 1.0000 - val_loss: 57.1185 - val_accuracy: 0.0278\n",
      "Epoch 4/10\n",
      "16/16 [==============================] - 2s 124ms/step - loss: 0.0000e+00 - accuracy: 1.0000 - val_loss: 59.7294 - val_accuracy: 0.0278\n",
      "Epoch 5/10\n",
      "16/16 [==============================] - 2s 122ms/step - loss: 0.0000e+00 - accuracy: 1.0000 - val_loss: 60.2927 - val_accuracy: 0.0278\n",
      "Epoch 6/10\n",
      "16/16 [==============================] - 2s 124ms/step - loss: 0.0000e+00 - accuracy: 1.0000 - val_loss: 60.4093 - val_accuracy: 0.0278\n",
      "Epoch 7/10\n",
      "16/16 [==============================] - 2s 125ms/step - loss: 0.0000e+00 - accuracy: 1.0000 - val_loss: 60.4330 - val_accuracy: 0.0278\n",
      "Epoch 8/10\n",
      "16/16 [==============================] - 2s 124ms/step - loss: 0.0000e+00 - accuracy: 1.0000 - val_loss: 60.4377 - val_accuracy: 0.0278\n",
      "Epoch 9/10\n",
      "16/16 [==============================] - 2s 125ms/step - loss: 0.0000e+00 - accuracy: 1.0000 - val_loss: 60.4386 - val_accuracy: 0.0278\n",
      "Epoch 10/10\n",
      "16/16 [==============================] - 2s 125ms/step - loss: 0.0000e+00 - accuracy: 1.0000 - val_loss: 60.4386 - val_accuracy: 0.0278\n"
     ]
    },
    {
     "data": {
      "text/plain": [
       "<keras.src.callbacks.History at 0x7fbeeb0d3640>"
      ]
     },
     "execution_count": 80,
     "metadata": {},
     "output_type": "execute_result"
    }
   ],
   "source": [
    "# Treinando o modelo\n",
    "model.fit(train_generator, epochs=10, validation_data=valid_generator)"
   ]
  },
  {
   "cell_type": "code",
   "execution_count": null,
   "metadata": {},
   "outputs": [],
   "source": []
  }
 ],
 "metadata": {
  "kernelspec": {
   "display_name": "venv",
   "language": "python",
   "name": "python3"
  },
  "language_info": {
   "codemirror_mode": {
    "name": "ipython",
    "version": 3
   },
   "file_extension": ".py",
   "mimetype": "text/x-python",
   "name": "python",
   "nbconvert_exporter": "python",
   "pygments_lexer": "ipython3",
   "version": "3.10.12"
  }
 },
 "nbformat": 4,
 "nbformat_minor": 2
}
