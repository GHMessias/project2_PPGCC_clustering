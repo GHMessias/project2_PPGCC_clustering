{
 "cells": [
  {
   "cell_type": "code",
   "execution_count": 34,
   "metadata": {},
   "outputs": [],
   "source": [
    "import tensorflow as tf\n",
    "from tensorflow.keras.applications import EfficientNetB0\n",
    "from tensorflow.keras.preprocessing.image import ImageDataGenerator\n",
    "from sklearn.model_selection import train_test_split\n",
    "import numpy as np\n",
    "import pandas as pd\n",
    "import random\n",
    "import os\n",
    "\n",
    "np.random.seed(42)\n",
    "tf.random.set_seed(42)"
   ]
  },
  {
   "cell_type": "code",
   "execution_count": 30,
   "metadata": {},
   "outputs": [],
   "source": [
    "# Definir o caminho para o diretório contendo as imagens de treino e teste\n",
    "data_dir = 'dataset/Kather_texture_2016_image_tiles_5000'\n",
    "samples, labels = list(), list()\n",
    "\n",
    "for nome_pasta in os.listdir(data_dir):\n",
    "    for nome_arquivo in os.listdir(os.path.join(data_dir, nome_pasta)):\n",
    "        samples.append(os.path.join(nome_pasta,nome_arquivo))\n",
    "        labels.append(int(nome_pasta[:2]))\n",
    "\n"
   ]
  },
  {
   "cell_type": "code",
   "execution_count": 43,
   "metadata": {},
   "outputs": [],
   "source": [
    "all_data = pd.DataFrame({'path':samples,'label':labels})\n",
    "all_data['label'] = all_data['label'].astype('str')"
   ]
  },
  {
   "cell_type": "code",
   "execution_count": 46,
   "metadata": {},
   "outputs": [],
   "source": [
    "datagen = ImageDataGenerator(rescale=1./255,\n",
    "                             validation_split=0.9,  # 20% dos dados serão usados para validação\n",
    "                             horizontal_flip=True)"
   ]
  },
  {
   "cell_type": "code",
   "execution_count": 47,
   "metadata": {},
   "outputs": [
    {
     "name": "stdout",
     "output_type": "stream",
     "text": [
      "Found 500 validated image filenames belonging to 8 classes.\n"
     ]
    },
    {
     "name": "stdout",
     "output_type": "stream",
     "text": [
      "Found 4500 validated image filenames belonging to 8 classes.\n"
     ]
    }
   ],
   "source": [
    "# Configuração dos parâmetros da CNN\n",
    "input_shape = (28, 28, 3)  # Dimensões da imagem de entrada\n",
    "num_classes = 8  # Número de classes no seu conjunto de dados\n",
    "batch_size = 32\n",
    "\n",
    "# Criando os geradores de dados de treinamento e validação usando flow_from_dataframe\n",
    "train_generator = datagen.flow_from_dataframe(dataframe=all_data,\n",
    "                                              directory=data_dir,\n",
    "                                              x_col=\"path\",\n",
    "                                              y_col=\"label\",\n",
    "                                              subset=\"training\",  # Usando os dados de treinamento\n",
    "                                              batch_size=32,\n",
    "                                              target_size=(28, 28),  # Tamanho da imagem para o modelo MobileNetV2\n",
    "                                              class_mode=\"categorical\")  # Se for um problema de classificação multiclasse\n",
    "\n",
    "valid_generator = datagen.flow_from_dataframe(dataframe=all_data,\n",
    "                                              directory=data_dir,\n",
    "                                              x_col=\"path\",\n",
    "                                              y_col=\"label\",\n",
    "                                              subset=\"validation\",  # Usando os dados de validação\n",
    "                                              batch_size=32,\n",
    "                                              target_size=(28, 28),\n",
    "                                              class_mode=\"categorical\")\n"
   ]
  },
  {
   "cell_type": "code",
   "execution_count": 22,
   "metadata": {},
   "outputs": [
    {
     "data": {
      "text/plain": [
       "array([1, 2, 3, 4, 5, 6, 7, 8])"
      ]
     },
     "execution_count": 22,
     "metadata": {},
     "output_type": "execute_result"
    }
   ],
   "source": [
    "np.unique(np.array(train_labels))"
   ]
  },
  {
   "cell_type": "code",
   "execution_count": null,
   "metadata": {},
   "outputs": [],
   "source": [
    "\n",
    "\n",
    "\n",
    "# Preprocessamento e aumento de dados para o conjunto de treino\n",
    "train_datagen = ImageDataGenerator(\n",
    "    rescale=1./255,         # Escala os valores dos pixels para o intervalo [0, 1]\n",
    "    shear_range=0.2,        # Aplica shear (cisalhamento) aleatório\n",
    "    zoom_range=0.2,         # Aplica zoom aleatório\n",
    "    horizontal_flip=True    # Realiza flip horizontal aleatório\n",
    ")\n",
    "\n",
    "train_generator = train_datagen.flow_from_directory(\n",
    "    train_data_dir,\n",
    "    target_size=input_shape[:2],\n",
    "    batch_size=batch_size,\n",
    "    class_mode='categorical'  # Modo de classificação categórica para problemas de classificação\n",
    ")\n",
    "\n",
    "# Construir o modelo CNN\n",
    "model = Sequential()\n",
    "model.add(Conv2D(32, kernel_size=(3, 3), activation='relu', input_shape=input_shape))\n",
    "model.add(MaxPooling2D(pool_size=(2, 2)))\n",
    "model.add(Conv2D(64, kernel_size=(3, 3), activation='relu'))\n",
    "model.add(MaxPooling2D(pool_size=(2, 2)))\n",
    "model.add(Flatten())\n",
    "model.add(Dense(128, activation='relu'))\n",
    "model.add(Dense(num_classes, activation='softmax'))\n",
    "\n",
    "# Compilar o modelo\n",
    "model.compile(loss='categorical_crossentropy',\n",
    "              optimizer='adam',\n",
    "              metrics=['accuracy'])\n",
    "\n",
    "# Treinar o modelo\n",
    "model.fit(train_generator, epochs=10)\n",
    "\n",
    "# Avaliar o modelo no conjunto de teste (não fornecido neste exemplo)\n",
    "# test_datagen = ImageDataGenerator(rescale=1./255)\n",
    "# test_generator = test_datagen.flow_from_directory(\n",
    "#     test_data_dir,\n",
    "#     target_size=input_shape[:2],\n",
    "#     batch_size=batch_size,\n",
    "#     class_mode='categorical'\n",
    "# )\n",
    "# accuracy = model.evaluate(test_generator)[1]\n",
    "# print(f'Teste de precisão: {accuracy}')\n",
    "\n",
    "# Salvar o modelo treinado\n",
    "model.save('cnn_model.h5')\n"
   ]
  },
  {
   "cell_type": "code",
   "execution_count": null,
   "metadata": {},
   "outputs": [],
   "source": []
  }
 ],
 "metadata": {
  "kernelspec": {
   "display_name": "venv",
   "language": "python",
   "name": "python3"
  },
  "language_info": {
   "codemirror_mode": {
    "name": "ipython",
    "version": 3
   },
   "file_extension": ".py",
   "mimetype": "text/x-python",
   "name": "python",
   "nbconvert_exporter": "python",
   "pygments_lexer": "ipython3",
   "version": "3.10.12"
  }
 },
 "nbformat": 4,
 "nbformat_minor": 2
}
