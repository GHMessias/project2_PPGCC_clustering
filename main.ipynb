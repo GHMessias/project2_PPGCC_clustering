{
 "cells": [
  {
   "cell_type": "markdown",
   "metadata": {},
   "source": [
    "# Embedding"
   ]
  },
  {
   "cell_type": "code",
   "execution_count": 1,
   "metadata": {},
   "outputs": [
    {
     "name": "stderr",
     "output_type": "stream",
     "text": [
      "2024-01-31 12:08:23.586259: I tensorflow/core/util/port.cc:113] oneDNN custom operations are on. You may see slightly different numerical results due to floating-point round-off errors from different computation orders. To turn them off, set the environment variable `TF_ENABLE_ONEDNN_OPTS=0`.\n",
      "2024-01-31 12:08:23.609829: E external/local_xla/xla/stream_executor/cuda/cuda_dnn.cc:9261] Unable to register cuDNN factory: Attempting to register factory for plugin cuDNN when one has already been registered\n",
      "2024-01-31 12:08:23.609848: E external/local_xla/xla/stream_executor/cuda/cuda_fft.cc:607] Unable to register cuFFT factory: Attempting to register factory for plugin cuFFT when one has already been registered\n",
      "2024-01-31 12:08:23.610422: E external/local_xla/xla/stream_executor/cuda/cuda_blas.cc:1515] Unable to register cuBLAS factory: Attempting to register factory for plugin cuBLAS when one has already been registered\n",
      "2024-01-31 12:08:23.614279: I tensorflow/core/platform/cpu_feature_guard.cc:182] This TensorFlow binary is optimized to use available CPU instructions in performance-critical operations.\n",
      "To enable the following instructions: AVX2 AVX512F AVX512_VNNI FMA, in other operations, rebuild TensorFlow with the appropriate compiler flags.\n",
      "2024-01-31 12:08:24.078027: W tensorflow/compiler/tf2tensorrt/utils/py_utils.cc:38] TF-TRT Warning: Could not find TensorRT\n"
     ]
    }
   ],
   "source": [
    "import tensorflow as tf\n",
    "import numpy as np\n",
    "import pandas as pd\n",
    "import random\n",
    "import os\n",
    "from utils.utils import CustomDataset, epsilon_graph, knn_graph\n",
    "from torchvision import transforms\n",
    "from torch.utils.data import  DataLoader, TensorDataset, random_split\n",
    "from models.AE_model import Autoencoder\n",
    "import torch.nn as nn\n",
    "import torch.optim as optim\n",
    "import torch\n",
    "from sklearn.cluster import KMeans\n",
    "from sklearn.semi_supervised import LabelPropagation\n",
    "from models.GNN_Model import GCN_Classifier\n",
    "import networkx as nx\n",
    "\n",
    "\n",
    "np.random.seed(42)\n",
    "tf.random.set_seed(42)"
   ]
  },
  {
   "cell_type": "code",
   "execution_count": 2,
   "metadata": {},
   "outputs": [],
   "source": [
    "# Definir o caminho para o diretório contendo as imagens de treino e teste\n",
    "data_dir = 'dataset/Kather_texture_2016_image_tiles_5000'\n",
    "samples, labels = list(), list()\n",
    "\n",
    "for nome_pasta in os.listdir(data_dir):\n",
    "    for nome_arquivo in os.listdir(os.path.join(data_dir, nome_pasta)):\n",
    "        samples.append(os.path.join(data_dir + '/' + nome_pasta,nome_arquivo))\n",
    "        labels.append(int(nome_pasta[:2]))\n",
    "\n",
    "all_data = pd.DataFrame({'path':samples,'label':labels})\n",
    "all_data['label'] = all_data['label'].astype('str')"
   ]
  },
  {
   "cell_type": "code",
   "execution_count": 3,
   "metadata": {},
   "outputs": [
    {
     "data": {
      "text/html": [
       "<div>\n",
       "<style scoped>\n",
       "    .dataframe tbody tr th:only-of-type {\n",
       "        vertical-align: middle;\n",
       "    }\n",
       "\n",
       "    .dataframe tbody tr th {\n",
       "        vertical-align: top;\n",
       "    }\n",
       "\n",
       "    .dataframe thead th {\n",
       "        text-align: right;\n",
       "    }\n",
       "</style>\n",
       "<table border=\"1\" class=\"dataframe\">\n",
       "  <thead>\n",
       "    <tr style=\"text-align: right;\">\n",
       "      <th></th>\n",
       "      <th>path</th>\n",
       "      <th>label</th>\n",
       "    </tr>\n",
       "  </thead>\n",
       "  <tbody>\n",
       "    <tr>\n",
       "      <th>0</th>\n",
       "      <td>dataset/Kather_texture_2016_image_tiles_5000/0...</td>\n",
       "      <td>7</td>\n",
       "    </tr>\n",
       "    <tr>\n",
       "      <th>1</th>\n",
       "      <td>dataset/Kather_texture_2016_image_tiles_5000/0...</td>\n",
       "      <td>7</td>\n",
       "    </tr>\n",
       "    <tr>\n",
       "      <th>2</th>\n",
       "      <td>dataset/Kather_texture_2016_image_tiles_5000/0...</td>\n",
       "      <td>7</td>\n",
       "    </tr>\n",
       "    <tr>\n",
       "      <th>3</th>\n",
       "      <td>dataset/Kather_texture_2016_image_tiles_5000/0...</td>\n",
       "      <td>7</td>\n",
       "    </tr>\n",
       "    <tr>\n",
       "      <th>4</th>\n",
       "      <td>dataset/Kather_texture_2016_image_tiles_5000/0...</td>\n",
       "      <td>7</td>\n",
       "    </tr>\n",
       "  </tbody>\n",
       "</table>\n",
       "</div>"
      ],
      "text/plain": [
       "                                                path label\n",
       "0  dataset/Kather_texture_2016_image_tiles_5000/0...     7\n",
       "1  dataset/Kather_texture_2016_image_tiles_5000/0...     7\n",
       "2  dataset/Kather_texture_2016_image_tiles_5000/0...     7\n",
       "3  dataset/Kather_texture_2016_image_tiles_5000/0...     7\n",
       "4  dataset/Kather_texture_2016_image_tiles_5000/0...     7"
      ]
     },
     "execution_count": 3,
     "metadata": {},
     "output_type": "execute_result"
    }
   ],
   "source": [
    "all_data.head()"
   ]
  },
  {
   "cell_type": "code",
   "execution_count": 4,
   "metadata": {},
   "outputs": [],
   "source": [
    "transform = transforms.Compose([\n",
    "    transforms.Resize((28, 28)),\n",
    "    transforms.ToTensor(),\n",
    "])\n",
    "dataset = CustomDataset(dataframe=all_data, transform=transform)\n",
    "dataloader = DataLoader(dataset, batch_size=32, shuffle=True)"
   ]
  },
  {
   "cell_type": "code",
   "execution_count": 5,
   "metadata": {},
   "outputs": [],
   "source": [
    "model = Autoencoder()"
   ]
  },
  {
   "cell_type": "code",
   "execution_count": 6,
   "metadata": {},
   "outputs": [],
   "source": [
    "# Define the loss function and optimizer\n",
    "criterion = nn.MSELoss()\n",
    "optimizer = optim.Adam(model.parameters(), lr=0.001, weight_decay=0.0001)"
   ]
  },
  {
   "cell_type": "code",
   "execution_count": 7,
   "metadata": {},
   "outputs": [
    {
     "name": "stdout",
     "output_type": "stream",
     "text": [
      "Epoch [1/20], Loss: 0.0207\n",
      "Epoch [2/20], Loss: 0.0113\n",
      "Epoch [3/20], Loss: 0.0124\n",
      "Epoch [4/20], Loss: 0.0113\n",
      "Epoch [5/20], Loss: 0.0092\n",
      "Epoch [6/20], Loss: 0.0123\n",
      "Epoch [7/20], Loss: 0.0083\n",
      "Epoch [8/20], Loss: 0.0103\n",
      "Epoch [9/20], Loss: 0.0073\n",
      "Epoch [10/20], Loss: 0.0109\n",
      "Epoch [11/20], Loss: 0.0083\n",
      "Epoch [12/20], Loss: 0.0059\n",
      "Epoch [13/20], Loss: 0.0082\n",
      "Epoch [14/20], Loss: 0.0072\n",
      "Epoch [15/20], Loss: 0.0049\n",
      "Epoch [16/20], Loss: 0.0057\n",
      "Epoch [17/20], Loss: 0.0058\n",
      "Epoch [18/20], Loss: 0.0057\n",
      "Epoch [19/20], Loss: 0.0055\n",
      "Epoch [20/20], Loss: 0.0063\n"
     ]
    }
   ],
   "source": [
    "# Train the autoencoder\n",
    "num_epochs = 20\n",
    "for epoch in range(num_epochs):\n",
    "    for data in dataloader:\n",
    "        img = data\n",
    "        optimizer.zero_grad()\n",
    "        output = model(img)\n",
    "        loss = criterion(output, img)\n",
    "        loss.backward()\n",
    "        optimizer.step()\n",
    "    # if epoch % 5== 0:\n",
    "    print('Epoch [{}/{}], Loss: {:.4f}'.format(epoch+1, num_epochs, loss.item()))"
   ]
  },
  {
   "cell_type": "code",
   "execution_count": 8,
   "metadata": {},
   "outputs": [
    {
     "data": {
      "text/plain": [
       "<Figure size 1600x1200 with 0 Axes>"
      ]
     },
     "metadata": {},
     "output_type": "display_data"
    },
    {
     "data": {
      "image/png": "[encoded data removed]",
      "text/plain": [
       "<Figure size 1500x400 with 14 Axes>"
      ]
     },
     "metadata": {},
     "output_type": "display_data"
    }
   ],
   "source": [
    "with torch.no_grad():\n",
    "    for data in dataloader:\n",
    "        recon = model(data)\n",
    "        break\n",
    "         \n",
    "import matplotlib.pyplot as plt\n",
    "plt.figure(dpi=250)\n",
    "fig, ax = plt.subplots(2, 7, figsize=(15, 4))\n",
    "for i in range(7):\n",
    "    ax[0, i].imshow(data[i].cpu().numpy().transpose((1, 2, 0)))\n",
    "    ax[1, i].imshow(recon[i].cpu().numpy().transpose((1, 2, 0)))\n",
    "    ax[0, i].axis('OFF')\n",
    "    ax[1, i].axis('OFF')"
   ]
  },
  {
   "cell_type": "code",
   "execution_count": 9,
   "metadata": {},
   "outputs": [],
   "source": [
    "embed_dataloader = DataLoader(dataset, batch_size=5000, shuffle=False)"
   ]
  },
  {
   "cell_type": "code",
   "execution_count": 10,
   "metadata": {},
   "outputs": [],
   "source": [
    "for image in embed_dataloader:\n",
    "    X = model.encoder(image)\n",
    "y = torch.tensor(all_data.label.astype(int))"
   ]
  },
  {
   "cell_type": "code",
   "execution_count": 11,
   "metadata": {},
   "outputs": [
    {
     "data": {
      "text/plain": [
       "torch.Size([5000, 392])"
      ]
     },
     "execution_count": 11,
     "metadata": {},
     "output_type": "execute_result"
    }
   ],
   "source": [
    "X.shape"
   ]
  },
  {
   "cell_type": "markdown",
   "metadata": {},
   "source": [
    "## Seleção de parcela dos dados para aprendizado Semi-Supervisionado e Criação de Grafos Artificiais"
   ]
  },
  {
   "cell_type": "code",
   "execution_count": 12,
   "metadata": {},
   "outputs": [],
   "source": [
    "# Indices de todos os elementos do conjunto\n",
    "all_elements = torch.tensor(list(range(X.shape[0])))\n",
    "\n",
    "# Indices de treino\n",
    "train_indices = torch.tensor(random.sample(all_elements.tolist(), int(0.1 * X.shape[0])))\n",
    "\n",
    "# Indices de teste, aux_mask é apenas para criar o indice de teste\n",
    "aux_mask = torch.isin(all_elements, train_indices)\n",
    "test_indices = all_elements[~aux_mask]\n",
    "\n",
    "# Rótulos de treino\n",
    "train_labels = y[train_indices]\n",
    "\n",
    "# Rótulos de teste\n",
    "test_labels = y[test_indices]\n",
    "\n",
    "# Mask com todos os dados de treino iguais a -1, caso seja necessário usar\n",
    "training_mask = np.full(X.shape[0], -1)\n",
    "for i in train_indices:\n",
    "    training_mask[i] = y[i]"
   ]
  },
  {
   "cell_type": "code",
   "execution_count": 13,
   "metadata": {},
   "outputs": [],
   "source": [
    "# Criando um objeto custom data com os rótulos de treino e teste\n",
    "dataset = TensorDataset(X, y)\n",
    "\n",
    "train_dataset = torch.utils.data.Subset(dataset, train_indices)\n",
    "test_dataset = torch.utils.data.Subset(dataset, test_indices)\n",
    "\n",
    "# Configuração do DataLoader\n",
    "batch_size = 32\n",
    "train_loader = DataLoader(train_dataset, batch_size=batch_size, shuffle=True)\n",
    "test_loader = DataLoader(test_dataset, batch_size=batch_size, shuffle=False)"
   ]
  },
  {
   "cell_type": "code",
   "execution_count": 14,
   "metadata": {},
   "outputs": [],
   "source": [
    "# Criação de Grafos Artificiais\n",
    "G1 = epsilon_graph(X.detach().numpy(), 0.2)\n",
    "G2 = knn_graph(X.detach().numpy(), 3)"
   ]
  },
  {
   "cell_type": "code",
   "execution_count": 23,
   "metadata": {},
   "outputs": [],
   "source": [
    "# Gerando o grafo a partir do algoritmo kmeans\n",
    "# Aplique K-Means com k=8\n",
    "kmeans = KMeans(n_clusters=8, random_state=42)\n",
    "kmeans_clusters = kmeans.fit_predict(X.detach().numpy())\n",
    "\n",
    "# Crie um grafo para cada cluster\n",
    "k_neighbors = 3  # Número de vizinhos para o grafo KNN\n",
    "\n",
    "# Crie um grafo global\n",
    "global_graph = nx.Graph()\n",
    "\n",
    "for cluster_label in range(8):\n",
    "    # Selecione os pontos pertencentes ao cluster\n",
    "    cluster_points = X.detach().numpy()[kmeans_clusters == cluster_label]\n",
    "\n",
    "    # Crie o grafo KNN para o cluster atual\n",
    "    cluster_graph = knn_graph(cluster_points, k_neighbors)\n",
    "\n",
    "    # Adicione o grafo do cluster ao grafo global\n",
    "    global_graph.add_nodes_from(cluster_graph.nodes)\n",
    "    global_graph.add_edges_from(cluster_graph.edges)"
   ]
  },
  {
   "cell_type": "code",
   "execution_count": 24,
   "metadata": {},
   "outputs": [
    {
     "name": "stdout",
     "output_type": "stream",
     "text": [
      "1\n",
      "1260\n"
     ]
    }
   ],
   "source": [
    "print(nx.number_connected_components(global_graph))\n",
    "print(len(global_graph.nodes()))"
   ]
  },
  {
   "cell_type": "markdown",
   "metadata": {},
   "source": [
    "# Clasificação dos dados"
   ]
  },
  {
   "cell_type": "code",
   "execution_count": null,
   "metadata": {},
   "outputs": [],
   "source": [
    "# Dicionário para guardar o resultado da classificação\n",
    "resultado_classificação = dict()"
   ]
  },
  {
   "cell_type": "markdown",
   "metadata": {},
   "source": [
    "## Aplicar o KMeans sem rótulos para fazer a divisão dos grafos para o LabelPropagation + validação"
   ]
  },
  {
   "cell_type": "code",
   "execution_count": null,
   "metadata": {},
   "outputs": [],
   "source": [
    "modelo_kmeans = KMeans(n_clusters=8)\n",
    "grupos = modelo_kmeans.fit_predict(X.detach().numpy())"
   ]
  },
  {
   "cell_type": "code",
   "execution_count": null,
   "metadata": {},
   "outputs": [],
   "source": [
    "# Distribuição do kmeans\n",
    "torch.bincount(torch.tensor(grupos))"
   ]
  },
  {
   "cell_type": "code",
   "execution_count": null,
   "metadata": {},
   "outputs": [],
   "source": [
    "label_prop_model = LabelPropagation()\n",
    "label_prop_model.fit(X.detach().numpy(), training_mask)\n",
    "predict_lp = label_prop_model.predict(X.detach().numpy())"
   ]
  },
  {
   "cell_type": "markdown",
   "metadata": {},
   "source": [
    "## SVC + Self Training + validação"
   ]
  },
  {
   "cell_type": "code",
   "execution_count": null,
   "metadata": {},
   "outputs": [],
   "source": [
    "import numpy as np\n",
    "from sklearn.semi_supervised import SelfTrainingClassifier\n",
    "from sklearn.svm import SVC\n",
    "svc = SVC(probability=True, gamma=\"auto\")\n",
    "self_training_model = SelfTrainingClassifier(svc)\n",
    "self_training_model.fit(X.detach().numpy(), training_mask)"
   ]
  },
  {
   "cell_type": "code",
   "execution_count": null,
   "metadata": {},
   "outputs": [],
   "source": [
    "y_pred = self_training_model.predict(X.detach().numpy())"
   ]
  },
  {
   "cell_type": "code",
   "execution_count": null,
   "metadata": {},
   "outputs": [],
   "source": [
    "from sklearn.metrics import accuracy_score, f1_score\n",
    "\n",
    "print(accuracy_score(y, y_pred))\n",
    "print(f1_score(y, y_pred, average='weighted'))"
   ]
  },
  {
   "cell_type": "code",
   "execution_count": null,
   "metadata": {},
   "outputs": [],
   "source": [
    "print(accuracy_score(y, grupos))"
   ]
  },
  {
   "cell_type": "markdown",
   "metadata": {},
   "source": [
    "## GNN + validação"
   ]
  },
  {
   "cell_type": "code",
   "execution_count": null,
   "metadata": {},
   "outputs": [],
   "source": []
  },
  {
   "cell_type": "code",
   "execution_count": null,
   "metadata": {},
   "outputs": [],
   "source": [
    "GNN = GCN_Classifier(X.shape[0], 64, 8)\n",
    "criterion = nn.MSELoss()\n",
    "optimizer_GNN = optim.Adam(GNN.parameters(), lr=0.001, weight_decay=0.0001)"
   ]
  },
  {
   "cell_type": "code",
   "execution_count": null,
   "metadata": {},
   "outputs": [],
   "source": [
    "# Treinamento\n",
    "num_epochs = 100\n",
    "\n",
    "for epoch in range(num_epochs):\n",
    "    GNN.train()\n",
    "    total_loss = 0\n",
    "\n",
    "    for batch in train_loader:\n",
    "        print(type(batch))\n",
    "        optimizer.zero_grad()  # Zera os gradientes\n",
    "        output = GNN(batch)\n",
    "        loss = criterion(output, batch.y)\n",
    "        loss.backward()  # Retropropagação\n",
    "        optimizer.step()  # Atualização dos parâmetros\n",
    "\n",
    "        total_loss += loss.item()\n",
    "\n",
    "    average_loss = total_loss / len(train_loader)\n",
    "    print(f'Epoch {epoch + 1}/{num_epochs}, Loss: {average_loss}')"
   ]
  },
  {
   "cell_type": "code",
   "execution_count": null,
   "metadata": {},
   "outputs": [],
   "source": []
  }
 ],
 "metadata": {
  "kernelspec": {
   "display_name": "venv",
   "language": "python",
   "name": "python3"
  },
  "language_info": {
   "codemirror_mode": {
    "name": "ipython",
    "version": 3
   },
   "file_extension": ".py",
   "mimetype": "text/x-python",
   "name": "python",
   "nbconvert_exporter": "python",
   "pygments_lexer": "ipython3",
   "version": "3.10.12"
  }
 },
 "nbformat": 4,
 "nbformat_minor": 2
}
